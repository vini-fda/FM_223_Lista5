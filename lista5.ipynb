{
 "cells": [
  {
   "cell_type": "markdown",
   "metadata": {},
   "source": [
    "# FM-223: Lista 5\n",
    "\n",
    "Aluno: Vinícius Freitas de Almeida"
   ]
  },
  {
   "cell_type": "markdown",
   "metadata": {},
   "source": [
    "## Exercício 1\n",
    "\n",
    "Mostre que o conjunto dos números racionais entre 0 e 1 é contável"
   ]
  },
  {
   "cell_type": "markdown",
   "metadata": {},
   "source": [
    "Obs.: Resolução baseada no livro \"Principles of Mathematical Analysis\" do Walter Rudin\n",
    "\n",
    "Todo número racional entre 0 e 1 pode ser representado unicamente pela razão\n",
    "\n",
    "$$ q = \\frac{a}{b} $$\n",
    "\n",
    "em que $a \\ge 0$ e $b > 0$ são inteiros tais que $a$ e $b$ não possuem fatores em comum.\n",
    "\n",
    "Além disso, \n",
    "\n",
    "$$ 0 \\le q \\le 1 \\iff 0 \\le \\frac{a}{b} \\le 1 \\iff 0 \\le a \\le b $$\n",
    "\n",
    "Para provar que o conjunto é enumerável, basta mostrar que existe uma função bijetora entre o conjunto dos números naturais $\\mathbb{N}$ e o conjunto dos números racionais entre 0 e 1. Isso pode ser feito pelo argumento da diagonalização de Cantor ou, neste caso particular em que $0 \\le a \\le b$, pode-se construir uma função bijetora $f: \\mathbb{N} \\to \\mathbb{Q} \\cap [0,1]$ da forma a seguir.\n",
    "\n",
    "Tabela com linhas (j) e colunas (i), ignorando os elementos acima da diagonal:\n",
    "\n",
    "| j \\ i | 0 | 1 | 2 | 3 | ... |\n",
    "|-------|---|---|---|---|-----|\n",
    "| 1     | 1 | 2 | - | - | ... |\n",
    "| 2     | 3 | 4 | 5 | - | ... |\n",
    "| 3     | 6 | 7 | 8 | 9 | ... |\n",
    "| 4     | 10 | 11 | 12 | 13| ... |\n",
    "\n",
    "Percebe-se, na tabela acima, que é possível enumerar todos os elementos do conjunto $A = \\{ (i,j) \\in \\mathbb{Z}^2 | 0 \\le i \\le j \\text{ e } j > 0 \\}$. Ou seja, $A$ é enumerável.\n",
    "\n",
    "Agora, chamando de $B$ o conjunto dos números racionais entre 0 e 1, percebe-se que cada elemento de $B$ pode ser representado por um par $(i,j) \\in A$:\n",
    "\n",
    "$$ q = \\frac{i}{j}, \\text{ com } (i,j) \\in A $$\n",
    "\n",
    "No entanto, percebe-se que há mais elementos em $A$ do que em $B$, pois cada elemento de $B$ pode ser representado por mais de um par $(i,j) \\in A$. Por exemplo, o número 1/2 pode ser representado por (1,2), (2,4), (3,6), etc.\n",
    "\n",
    "Assim, a função bijetora $f: \\mathbb{N} \\to \\mathbb{Q} \\cap [0,1]$ que procuramos deve pular os pares $(a,b)$ em que $a$ e $b$ possuem fatores em comum. Para isso, basta definir $f$ da seguinte forma:\n",
    "\n",
    "| b \\ a | 0 | 1 | 2 | 3 | ... |\n",
    "|-------|---|---|---|---|-----|\n",
    "| 1     | 1 | 2 | - | - | ... |\n",
    "| 2     | x | 3 | x | - | ... |\n",
    "| 3     | x | 4 | 5 | x | ... |\n",
    "| 4     | x | 6 | x | x| ... |\n",
    "\n",
    "Da tabela acima, cada índice $n \\in \\mathbb{N}$ corresponde a um, e apenas um, par de valores $(a,b) \\in A$ que são primos entre si. Além disso, pulamos (marcando com x) os pares que têm múltiplos comuns. Ou seja, $f$ é uma função bijetora entre $\\mathbb{N}$ e $\\mathbb{Q} \\cap [0,1]$."
   ]
  },
  {
   "cell_type": "markdown",
   "metadata": {},
   "source": [
    "# Exercício 2\n",
    "\n",
    "Mostre que o conjunto de Cantor do terço-médio é incontável"
   ]
  },
  {
   "cell_type": "markdown",
   "metadata": {},
   "source": [
    "# Exercício 3\n",
    "\n",
    "Plote o conjunto de Cantor usando o método probabilístico do Example 4.3.\n",
    "\n",
    "Para isso, use a função `rand()` para gerar um número aleatório entre 0 e 1. Se o número for maior do que 1/2, considere \"cara\", senão, considere \"coroa\". Mostre vários \"zoom in\" para observar a invariância à escala."
   ]
  },
  {
   "cell_type": "markdown",
   "metadata": {},
   "source": [
    "# Exercício 4\n",
    "\n",
    "Plote o fractal probabilístico do computer experiment 4.1. Mostre vários \"zoom in\""
   ]
  },
  {
   "cell_type": "markdown",
   "metadata": {},
   "source": [
    "# Exercício 5\n",
    "\n",
    "Plote o conjunto de Mandelbrot da Fig. 4.10"
   ]
  },
  {
   "cell_type": "markdown",
   "metadata": {},
   "source": [
    "# Exercício 6\n",
    "\n",
    "Plote o conjunto de Julia da Fig. 4.11"
   ]
  },
  {
   "cell_type": "markdown",
   "metadata": {},
   "source": []
  }
 ],
 "metadata": {
  "language_info": {
   "name": "python"
  }
 },
 "nbformat": 4,
 "nbformat_minor": 2
}
