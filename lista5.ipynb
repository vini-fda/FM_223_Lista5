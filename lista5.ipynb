{
 "cells": [
  {
   "cell_type": "markdown",
   "metadata": {},
   "source": [
    "# FM-223: Lista 5\n",
    "\n",
    "Aluno: Vinícius Freitas de Almeida"
   ]
  },
  {
   "cell_type": "markdown",
   "metadata": {},
   "source": [
    "## Exercício 1\n",
    "\n",
    "Mostre que o conjunto dos números racionais entre 0 e 1 é contável"
   ]
  },
  {
   "cell_type": "markdown",
   "metadata": {},
   "source": [
    "# Exercício 2\n",
    "\n",
    "Mostre que o conjunto de Cantor do terço-médio é incontável"
   ]
  },
  {
   "cell_type": "markdown",
   "metadata": {},
   "source": [
    "# Exercício 3\n",
    "\n",
    "Plote o conjunto de Cantor usando o método probabilístico do Example 4.3.\n",
    "\n",
    "Para isso, use a função `rand()` para gerar um número aleatório entre 0 e 1. Se o número for maior do que 1/2, considere \"cara\", senão, considere \"coroa\". Mostre vários \"zoom in\" para observar a invariância à escala."
   ]
  },
  {
   "cell_type": "markdown",
   "metadata": {},
   "source": [
    "# Exercício 4\n",
    "\n",
    "Plote o fractal probabilístico do computer experiment 4.1. Mostre vários \"zoom in\""
   ]
  },
  {
   "cell_type": "markdown",
   "metadata": {},
   "source": [
    "# Exercício 5\n",
    "\n",
    "Plote o conjunto de Mandelbrot da Fig. 4.10"
   ]
  },
  {
   "cell_type": "markdown",
   "metadata": {},
   "source": [
    "# Exercício 6\n",
    "\n",
    "Plote o conjunto de Julia da Fig. 4.11"
   ]
  },
  {
   "cell_type": "markdown",
   "metadata": {},
   "source": []
  }
 ],
 "metadata": {
  "language_info": {
   "name": "python"
  }
 },
 "nbformat": 4,
 "nbformat_minor": 2
}
